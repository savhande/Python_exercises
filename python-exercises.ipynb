{
 "cells": [
  {
   "cell_type": "markdown",
   "id": "24a6bc88",
   "metadata": {
    "papermill": {
     "duration": 0.019688,
     "end_time": "2024-07-24T08:13:26.489851",
     "exception": false,
     "start_time": "2024-07-24T08:13:26.470163",
     "status": "completed"
    },
    "tags": []
   },
   "source": [
    "Python Alıştırmalar\n",
    "\n",
    "1) Veri yapılarının tipleriniz inceleyiniz.\n"
   ]
  },
  {
   "cell_type": "code",
   "execution_count": 1,
   "id": "ac70a76b",
   "metadata": {
    "_cell_guid": "b1076dfc-b9ad-4769-8c92-a6c4dae69d19",
    "_uuid": "8f2839f25d086af736a60e9eeb907d3b93b6e0e5",
    "execution": {
     "iopub.execute_input": "2024-07-24T08:13:26.529046Z",
     "iopub.status.busy": "2024-07-24T08:13:26.528623Z",
     "iopub.status.idle": "2024-07-24T08:13:26.546989Z",
     "shell.execute_reply": "2024-07-24T08:13:26.545872Z"
    },
    "papermill": {
     "duration": 0.041218,
     "end_time": "2024-07-24T08:13:26.549562",
     "exception": false,
     "start_time": "2024-07-24T08:13:26.508344",
     "status": "completed"
    },
    "tags": []
   },
   "outputs": [
    {
     "name": "stdout",
     "output_type": "stream",
     "text": [
      "<class 'int'>\n"
     ]
    },
    {
     "data": {
      "text/plain": [
       "int"
      ]
     },
     "execution_count": 1,
     "metadata": {},
     "output_type": "execute_result"
    }
   ],
   "source": [
    "x = 6\n",
    "print(type(x))\n",
    "type(x)"
   ]
  },
  {
   "cell_type": "code",
   "execution_count": 2,
   "id": "44073b10",
   "metadata": {
    "execution": {
     "iopub.execute_input": "2024-07-24T08:13:26.589002Z",
     "iopub.status.busy": "2024-07-24T08:13:26.588608Z",
     "iopub.status.idle": "2024-07-24T08:13:26.596134Z",
     "shell.execute_reply": "2024-07-24T08:13:26.594963Z"
    },
    "papermill": {
     "duration": 0.030392,
     "end_time": "2024-07-24T08:13:26.598906",
     "exception": false,
     "start_time": "2024-07-24T08:13:26.568514",
     "status": "completed"
    },
    "tags": []
   },
   "outputs": [
    {
     "data": {
      "text/plain": [
       "float"
      ]
     },
     "execution_count": 2,
     "metadata": {},
     "output_type": "execute_result"
    }
   ],
   "source": [
    "y = 3.2\n",
    "type(y)"
   ]
  },
  {
   "cell_type": "code",
   "execution_count": 3,
   "id": "ed023076",
   "metadata": {
    "execution": {
     "iopub.execute_input": "2024-07-24T08:13:26.640441Z",
     "iopub.status.busy": "2024-07-24T08:13:26.639991Z",
     "iopub.status.idle": "2024-07-24T08:13:26.647341Z",
     "shell.execute_reply": "2024-07-24T08:13:26.646298Z"
    },
    "papermill": {
     "duration": 0.031104,
     "end_time": "2024-07-24T08:13:26.649876",
     "exception": false,
     "start_time": "2024-07-24T08:13:26.618772",
     "status": "completed"
    },
    "tags": []
   },
   "outputs": [
    {
     "data": {
      "text/plain": [
       "complex"
      ]
     },
     "execution_count": 3,
     "metadata": {},
     "output_type": "execute_result"
    }
   ],
   "source": [
    "z = 8j + 18\n",
    "type(z)"
   ]
  },
  {
   "cell_type": "code",
   "execution_count": 4,
   "id": "fa6427d8",
   "metadata": {
    "execution": {
     "iopub.execute_input": "2024-07-24T08:13:26.690390Z",
     "iopub.status.busy": "2024-07-24T08:13:26.689957Z",
     "iopub.status.idle": "2024-07-24T08:13:26.696885Z",
     "shell.execute_reply": "2024-07-24T08:13:26.695815Z"
    },
    "papermill": {
     "duration": 0.029998,
     "end_time": "2024-07-24T08:13:26.699513",
     "exception": false,
     "start_time": "2024-07-24T08:13:26.669515",
     "status": "completed"
    },
    "tags": []
   },
   "outputs": [
    {
     "data": {
      "text/plain": [
       "str"
      ]
     },
     "execution_count": 4,
     "metadata": {},
     "output_type": "execute_result"
    }
   ],
   "source": [
    "a = \"Hello World\"\n",
    "type(a)"
   ]
  },
  {
   "cell_type": "code",
   "execution_count": 5,
   "id": "39d1ceb6",
   "metadata": {
    "execution": {
     "iopub.execute_input": "2024-07-24T08:13:26.739906Z",
     "iopub.status.busy": "2024-07-24T08:13:26.739493Z",
     "iopub.status.idle": "2024-07-24T08:13:26.746760Z",
     "shell.execute_reply": "2024-07-24T08:13:26.745600Z"
    },
    "papermill": {
     "duration": 0.030336,
     "end_time": "2024-07-24T08:13:26.749131",
     "exception": false,
     "start_time": "2024-07-24T08:13:26.718795",
     "status": "completed"
    },
    "tags": []
   },
   "outputs": [
    {
     "data": {
      "text/plain": [
       "bool"
      ]
     },
     "execution_count": 5,
     "metadata": {},
     "output_type": "execute_result"
    }
   ],
   "source": [
    "b = False\n",
    "type(b)"
   ]
  },
  {
   "cell_type": "code",
   "execution_count": 6,
   "id": "f2df2f93",
   "metadata": {
    "execution": {
     "iopub.execute_input": "2024-07-24T08:13:26.789652Z",
     "iopub.status.busy": "2024-07-24T08:13:26.789225Z",
     "iopub.status.idle": "2024-07-24T08:13:26.796663Z",
     "shell.execute_reply": "2024-07-24T08:13:26.795633Z"
    },
    "papermill": {
     "duration": 0.030924,
     "end_time": "2024-07-24T08:13:26.799319",
     "exception": false,
     "start_time": "2024-07-24T08:13:26.768395",
     "status": "completed"
    },
    "tags": []
   },
   "outputs": [
    {
     "data": {
      "text/plain": [
       "bool"
      ]
     },
     "execution_count": 6,
     "metadata": {},
     "output_type": "execute_result"
    }
   ],
   "source": [
    "c = 23 < 22\n",
    "type(c)"
   ]
  },
  {
   "cell_type": "code",
   "execution_count": 7,
   "id": "3cac671f",
   "metadata": {
    "execution": {
     "iopub.execute_input": "2024-07-24T08:13:26.841682Z",
     "iopub.status.busy": "2024-07-24T08:13:26.841251Z",
     "iopub.status.idle": "2024-07-24T08:13:26.848372Z",
     "shell.execute_reply": "2024-07-24T08:13:26.847376Z"
    },
    "papermill": {
     "duration": 0.031096,
     "end_time": "2024-07-24T08:13:26.850908",
     "exception": false,
     "start_time": "2024-07-24T08:13:26.819812",
     "status": "completed"
    },
    "tags": []
   },
   "outputs": [
    {
     "data": {
      "text/plain": [
       "list"
      ]
     },
     "execution_count": 7,
     "metadata": {},
     "output_type": "execute_result"
    }
   ],
   "source": [
    "l = [1, 2, 3, 4,\"String\",3.2, False]\n",
    "type(l)"
   ]
  },
  {
   "cell_type": "markdown",
   "id": "65d78116",
   "metadata": {
    "papermill": {
     "duration": 0.01934,
     "end_time": "2024-07-24T08:13:26.889805",
     "exception": false,
     "start_time": "2024-07-24T08:13:26.870465",
     "status": "completed"
    },
    "tags": []
   },
   "source": [
    "Sıralıdır: indeksleri vardır\n",
    "\n",
    "Kapsayıcıdır: her veri tipi kabul edilir.\n",
    "\n",
    "Değiştirilebilir"
   ]
  },
  {
   "cell_type": "code",
   "execution_count": 8,
   "id": "c40134ce",
   "metadata": {
    "execution": {
     "iopub.execute_input": "2024-07-24T08:13:26.930726Z",
     "iopub.status.busy": "2024-07-24T08:13:26.930325Z",
     "iopub.status.idle": "2024-07-24T08:13:26.938270Z",
     "shell.execute_reply": "2024-07-24T08:13:26.936961Z"
    },
    "papermill": {
     "duration": 0.03137,
     "end_time": "2024-07-24T08:13:26.940897",
     "exception": false,
     "start_time": "2024-07-24T08:13:26.909527",
     "status": "completed"
    },
    "tags": []
   },
   "outputs": [
    {
     "data": {
      "text/plain": [
       "dict"
      ]
     },
     "execution_count": 8,
     "metadata": {},
     "output_type": "execute_result"
    }
   ],
   "source": [
    "d = {\"Name\": \"Jake\",\n",
    "     \"Age\": [27,56],\n",
    "     \"Adress\": \"Downtown\"}\n",
    "type(d)"
   ]
  },
  {
   "cell_type": "markdown",
   "id": "cec2f2b1",
   "metadata": {
    "papermill": {
     "duration": 0.019407,
     "end_time": "2024-07-24T08:13:26.980138",
     "exception": false,
     "start_time": "2024-07-24T08:13:26.960731",
     "status": "completed"
    },
    "tags": []
   },
   "source": [
    "Değiştirilebilir\n",
    "\n",
    "Kapsayıcı\n",
    "\n",
    "Sırasız\n",
    "\n",
    "Key değerleri farklı olmalıdır."
   ]
  },
  {
   "cell_type": "code",
   "execution_count": 9,
   "id": "24795a1a",
   "metadata": {
    "execution": {
     "iopub.execute_input": "2024-07-24T08:13:27.021939Z",
     "iopub.status.busy": "2024-07-24T08:13:27.021544Z",
     "iopub.status.idle": "2024-07-24T08:13:27.029324Z",
     "shell.execute_reply": "2024-07-24T08:13:27.028110Z"
    },
    "papermill": {
     "duration": 0.031638,
     "end_time": "2024-07-24T08:13:27.031829",
     "exception": false,
     "start_time": "2024-07-24T08:13:27.000191",
     "status": "completed"
    },
    "tags": []
   },
   "outputs": [
    {
     "data": {
      "text/plain": [
       "tuple"
      ]
     },
     "execution_count": 9,
     "metadata": {},
     "output_type": "execute_result"
    }
   ],
   "source": [
    "t = (\"Machine Learning\", \"Data Science\")\n",
    "type(t)"
   ]
  },
  {
   "cell_type": "markdown",
   "id": "b723482c",
   "metadata": {
    "papermill": {
     "duration": 0.02005,
     "end_time": "2024-07-24T08:13:27.072002",
     "exception": false,
     "start_time": "2024-07-24T08:13:27.051952",
     "status": "completed"
    },
    "tags": []
   },
   "source": [
    "Değiştirilemez\n",
    "\n",
    "Kapsayıcı\n",
    "\n",
    "Sıralı"
   ]
  },
  {
   "cell_type": "code",
   "execution_count": 10,
   "id": "73496200",
   "metadata": {
    "execution": {
     "iopub.execute_input": "2024-07-24T08:13:27.115441Z",
     "iopub.status.busy": "2024-07-24T08:13:27.115002Z",
     "iopub.status.idle": "2024-07-24T08:13:27.122895Z",
     "shell.execute_reply": "2024-07-24T08:13:27.121757Z"
    },
    "papermill": {
     "duration": 0.032501,
     "end_time": "2024-07-24T08:13:27.125494",
     "exception": false,
     "start_time": "2024-07-24T08:13:27.092993",
     "status": "completed"
    },
    "tags": []
   },
   "outputs": [
    {
     "data": {
      "text/plain": [
       "set"
      ]
     },
     "execution_count": 10,
     "metadata": {},
     "output_type": "execute_result"
    }
   ],
   "source": [
    "s = {\"Python\", \"Machine Learning\", \"Data Science\",\"Python\"}\n",
    "type(s)"
   ]
  },
  {
   "cell_type": "markdown",
   "id": "d868aaf5",
   "metadata": {
    "papermill": {
     "duration": 0.020454,
     "end_time": "2024-07-24T08:13:27.166068",
     "exception": false,
     "start_time": "2024-07-24T08:13:27.145614",
     "status": "completed"
    },
    "tags": []
   },
   "source": [
    "Değiştirilebilir\n",
    "\n",
    "Sırasız + Eşsiz\n",
    "\n",
    "Kapsayıcı"
   ]
  },
  {
   "cell_type": "markdown",
   "id": "e9fb4ef3",
   "metadata": {
    "papermill": {
     "duration": 0.021107,
     "end_time": "2024-07-24T08:13:27.207746",
     "exception": false,
     "start_time": "2024-07-24T08:13:27.186639",
     "status": "completed"
    },
    "tags": []
   },
   "source": [
    "2) Verilen string ifadenin tüm harflerini büyük harfe çeviriniz. Virgül ve nokta yerine space koyunuz, kelime kelime ayırınız."
   ]
  },
  {
   "cell_type": "code",
   "execution_count": 11,
   "id": "0c4d2a57",
   "metadata": {
    "execution": {
     "iopub.execute_input": "2024-07-24T08:13:27.250645Z",
     "iopub.status.busy": "2024-07-24T08:13:27.250217Z",
     "iopub.status.idle": "2024-07-24T08:13:27.258960Z",
     "shell.execute_reply": "2024-07-24T08:13:27.257735Z"
    },
    "papermill": {
     "duration": 0.033127,
     "end_time": "2024-07-24T08:13:27.261718",
     "exception": false,
     "start_time": "2024-07-24T08:13:27.228591",
     "status": "completed"
    },
    "tags": []
   },
   "outputs": [
    {
     "data": {
      "text/plain": [
       "['THE',\n",
       " 'GOAL',\n",
       " 'IS',\n",
       " 'TO',\n",
       " 'TURN',\n",
       " 'DATA',\n",
       " 'INTO',\n",
       " 'INFORMATION',\n",
       " 'AND',\n",
       " 'INFORMATION',\n",
       " 'INTO',\n",
       " 'INSIGHT']"
      ]
     },
     "execution_count": 11,
     "metadata": {},
     "output_type": "execute_result"
    }
   ],
   "source": [
    "text = \"The goal is to turn data into information, and information into insight.\"\n",
    "text.upper().replace(\",\",\" \").replace(\".\",\" \").split()"
   ]
  },
  {
   "cell_type": "markdown",
   "id": "c77028f3",
   "metadata": {
    "papermill": {
     "duration": 0.020235,
     "end_time": "2024-07-24T08:13:27.302989",
     "exception": false,
     "start_time": "2024-07-24T08:13:27.282754",
     "status": "completed"
    },
    "tags": []
   },
   "source": [
    "3) Verilen liste için aşağıdaki görevleri yapınız."
   ]
  },
  {
   "cell_type": "code",
   "execution_count": 12,
   "id": "f8541e10",
   "metadata": {
    "execution": {
     "iopub.execute_input": "2024-07-24T08:13:27.347519Z",
     "iopub.status.busy": "2024-07-24T08:13:27.347083Z",
     "iopub.status.idle": "2024-07-24T08:13:27.353171Z",
     "shell.execute_reply": "2024-07-24T08:13:27.351625Z"
    },
    "papermill": {
     "duration": 0.033263,
     "end_time": "2024-07-24T08:13:27.356620",
     "exception": false,
     "start_time": "2024-07-24T08:13:27.323357",
     "status": "completed"
    },
    "tags": []
   },
   "outputs": [],
   "source": [
    "lst = [\"D\",\"A\",\"T\",\"A\",\"S\",\"C\",\"I\",\"E\",\"N\",\"C\",\"E\"]"
   ]
  },
  {
   "cell_type": "markdown",
   "id": "7c069b86",
   "metadata": {
    "papermill": {
     "duration": 0.021547,
     "end_time": "2024-07-24T08:13:27.399422",
     "exception": false,
     "start_time": "2024-07-24T08:13:27.377875",
     "status": "completed"
    },
    "tags": []
   },
   "source": [
    "Adım 1: Verilen listenin eleman sayısına bakın."
   ]
  },
  {
   "cell_type": "code",
   "execution_count": 13,
   "id": "ee522ec6",
   "metadata": {
    "execution": {
     "iopub.execute_input": "2024-07-24T08:13:27.444206Z",
     "iopub.status.busy": "2024-07-24T08:13:27.443764Z",
     "iopub.status.idle": "2024-07-24T08:13:27.451479Z",
     "shell.execute_reply": "2024-07-24T08:13:27.450116Z"
    },
    "papermill": {
     "duration": 0.032981,
     "end_time": "2024-07-24T08:13:27.454529",
     "exception": false,
     "start_time": "2024-07-24T08:13:27.421548",
     "status": "completed"
    },
    "tags": []
   },
   "outputs": [
    {
     "data": {
      "text/plain": [
       "11"
      ]
     },
     "execution_count": 13,
     "metadata": {},
     "output_type": "execute_result"
    }
   ],
   "source": [
    "len(lst)"
   ]
  },
  {
   "cell_type": "markdown",
   "id": "21a4f2f6",
   "metadata": {
    "papermill": {
     "duration": 0.021201,
     "end_time": "2024-07-24T08:13:27.496082",
     "exception": false,
     "start_time": "2024-07-24T08:13:27.474881",
     "status": "completed"
    },
    "tags": []
   },
   "source": [
    "Adım 2: Sıfırıncı ve onuncu index'teki elemanları çağırın."
   ]
  },
  {
   "cell_type": "code",
   "execution_count": 14,
   "id": "c8ac6907",
   "metadata": {
    "execution": {
     "iopub.execute_input": "2024-07-24T08:13:27.606505Z",
     "iopub.status.busy": "2024-07-24T08:13:27.605362Z",
     "iopub.status.idle": "2024-07-24T08:13:27.613418Z",
     "shell.execute_reply": "2024-07-24T08:13:27.612186Z"
    },
    "papermill": {
     "duration": 0.034393,
     "end_time": "2024-07-24T08:13:27.616162",
     "exception": false,
     "start_time": "2024-07-24T08:13:27.581769",
     "status": "completed"
    },
    "tags": []
   },
   "outputs": [
    {
     "data": {
      "text/plain": [
       "'D'"
      ]
     },
     "execution_count": 14,
     "metadata": {},
     "output_type": "execute_result"
    }
   ],
   "source": [
    "lst[0]"
   ]
  },
  {
   "cell_type": "code",
   "execution_count": 15,
   "id": "43055fe4",
   "metadata": {
    "execution": {
     "iopub.execute_input": "2024-07-24T08:13:27.660451Z",
     "iopub.status.busy": "2024-07-24T08:13:27.660047Z",
     "iopub.status.idle": "2024-07-24T08:13:27.667099Z",
     "shell.execute_reply": "2024-07-24T08:13:27.666076Z"
    },
    "papermill": {
     "duration": 0.032908,
     "end_time": "2024-07-24T08:13:27.669791",
     "exception": false,
     "start_time": "2024-07-24T08:13:27.636883",
     "status": "completed"
    },
    "tags": []
   },
   "outputs": [
    {
     "data": {
      "text/plain": [
       "'E'"
      ]
     },
     "execution_count": 15,
     "metadata": {},
     "output_type": "execute_result"
    }
   ],
   "source": [
    "lst[10]"
   ]
  },
  {
   "cell_type": "markdown",
   "id": "e550e68b",
   "metadata": {
    "papermill": {
     "duration": 0.02107,
     "end_time": "2024-07-24T08:13:27.712527",
     "exception": false,
     "start_time": "2024-07-24T08:13:27.691457",
     "status": "completed"
    },
    "tags": []
   },
   "source": [
    "Adım 3: Verilen liste üzerinden [\"D\",\"A\",\"T\",\"A\"] listesi oluşturun."
   ]
  },
  {
   "cell_type": "code",
   "execution_count": 16,
   "id": "15e00f88",
   "metadata": {
    "execution": {
     "iopub.execute_input": "2024-07-24T08:13:27.757544Z",
     "iopub.status.busy": "2024-07-24T08:13:27.756914Z",
     "iopub.status.idle": "2024-07-24T08:13:27.764739Z",
     "shell.execute_reply": "2024-07-24T08:13:27.763407Z"
    },
    "papermill": {
     "duration": 0.033718,
     "end_time": "2024-07-24T08:13:27.767798",
     "exception": false,
     "start_time": "2024-07-24T08:13:27.734080",
     "status": "completed"
    },
    "tags": []
   },
   "outputs": [
    {
     "data": {
      "text/plain": [
       "['D', 'A', 'T', 'A']"
      ]
     },
     "execution_count": 16,
     "metadata": {},
     "output_type": "execute_result"
    }
   ],
   "source": [
    "data_list = lst[0:4]\n",
    "data_list"
   ]
  },
  {
   "cell_type": "markdown",
   "id": "a2e46871",
   "metadata": {
    "papermill": {
     "duration": 0.02079,
     "end_time": "2024-07-24T08:13:27.809774",
     "exception": false,
     "start_time": "2024-07-24T08:13:27.788984",
     "status": "completed"
    },
    "tags": []
   },
   "source": [
    "Adım 4: Sekizinci index'teki elemanı silin."
   ]
  },
  {
   "cell_type": "code",
   "execution_count": 17,
   "id": "7d1abe87",
   "metadata": {
    "execution": {
     "iopub.execute_input": "2024-07-24T08:13:27.853897Z",
     "iopub.status.busy": "2024-07-24T08:13:27.853470Z",
     "iopub.status.idle": "2024-07-24T08:13:27.860836Z",
     "shell.execute_reply": "2024-07-24T08:13:27.859542Z"
    },
    "papermill": {
     "duration": 0.03223,
     "end_time": "2024-07-24T08:13:27.863360",
     "exception": false,
     "start_time": "2024-07-24T08:13:27.831130",
     "status": "completed"
    },
    "tags": []
   },
   "outputs": [
    {
     "data": {
      "text/plain": [
       "'N'"
      ]
     },
     "execution_count": 17,
     "metadata": {},
     "output_type": "execute_result"
    }
   ],
   "source": [
    "lst.pop(8) # remove,del, clear"
   ]
  },
  {
   "cell_type": "code",
   "execution_count": 18,
   "id": "8117fcd6",
   "metadata": {
    "execution": {
     "iopub.execute_input": "2024-07-24T08:13:27.907932Z",
     "iopub.status.busy": "2024-07-24T08:13:27.907496Z",
     "iopub.status.idle": "2024-07-24T08:13:27.913610Z",
     "shell.execute_reply": "2024-07-24T08:13:27.912568Z"
    },
    "papermill": {
     "duration": 0.032635,
     "end_time": "2024-07-24T08:13:27.917130",
     "exception": false,
     "start_time": "2024-07-24T08:13:27.884495",
     "status": "completed"
    },
    "tags": []
   },
   "outputs": [
    {
     "name": "stdout",
     "output_type": "stream",
     "text": [
      "[1, 3, 4, 5]\n"
     ]
    }
   ],
   "source": [
    "#del kullanımı\n",
    "liste = [1, 2, 3, 4, 5]\n",
    "del liste[1]  # 2. öğeyi siler\n",
    "print(liste)  # Çıktı: [1, 3, 4, 5]"
   ]
  },
  {
   "cell_type": "code",
   "execution_count": 19,
   "id": "e6d54812",
   "metadata": {
    "execution": {
     "iopub.execute_input": "2024-07-24T08:13:27.962919Z",
     "iopub.status.busy": "2024-07-24T08:13:27.961933Z",
     "iopub.status.idle": "2024-07-24T08:13:27.968311Z",
     "shell.execute_reply": "2024-07-24T08:13:27.967221Z"
    },
    "papermill": {
     "duration": 0.032052,
     "end_time": "2024-07-24T08:13:27.971464",
     "exception": false,
     "start_time": "2024-07-24T08:13:27.939412",
     "status": "completed"
    },
    "tags": []
   },
   "outputs": [
    {
     "name": "stdout",
     "output_type": "stream",
     "text": [
      "2\n",
      "[1, 3, 4, 5]\n"
     ]
    }
   ],
   "source": [
    "#pop örnek\n",
    "liste = [1, 2, 3, 4, 5]\n",
    "silinen = liste.pop(1)  # 2. öğeyi siler ve döndürür\n",
    "print(silinen)  # Çıktı: 2\n",
    "print(liste)  # Çıktı: [1, 3, 4, 5]"
   ]
  },
  {
   "cell_type": "markdown",
   "id": "0b7c8486",
   "metadata": {
    "papermill": {
     "duration": 0.021881,
     "end_time": "2024-07-24T08:13:28.015171",
     "exception": false,
     "start_time": "2024-07-24T08:13:27.993290",
     "status": "completed"
    },
    "tags": []
   },
   "source": [
    "Adım 5: Yeni bir eleman ekleyin.\n",
    "\n",
    "append, extend,insert,update,add."
   ]
  },
  {
   "cell_type": "code",
   "execution_count": 20,
   "id": "71d11fbd",
   "metadata": {
    "execution": {
     "iopub.execute_input": "2024-07-24T08:13:28.061531Z",
     "iopub.status.busy": "2024-07-24T08:13:28.061135Z",
     "iopub.status.idle": "2024-07-24T08:13:28.068531Z",
     "shell.execute_reply": "2024-07-24T08:13:28.067384Z"
    },
    "papermill": {
     "duration": 0.03314,
     "end_time": "2024-07-24T08:13:28.071261",
     "exception": false,
     "start_time": "2024-07-24T08:13:28.038121",
     "status": "completed"
    },
    "tags": []
   },
   "outputs": [
    {
     "data": {
      "text/plain": [
       "['D', 'A', 'T', 'A', 'S', 'C', 'I', 'E', 'C', 'E', 101]"
      ]
     },
     "execution_count": 20,
     "metadata": {},
     "output_type": "execute_result"
    }
   ],
   "source": [
    "lst.append(101)\n",
    "lst"
   ]
  },
  {
   "cell_type": "markdown",
   "id": "796cdf84",
   "metadata": {
    "papermill": {
     "duration": 0.021315,
     "end_time": "2024-07-24T08:13:28.114165",
     "exception": false,
     "start_time": "2024-07-24T08:13:28.092850",
     "status": "completed"
    },
    "tags": []
   },
   "source": [
    "Adım 6: Sekizinci index'e  \"N\" elemanını tekrar ekleyin."
   ]
  },
  {
   "cell_type": "code",
   "execution_count": 21,
   "id": "a14c7f4e",
   "metadata": {
    "execution": {
     "iopub.execute_input": "2024-07-24T08:13:28.159914Z",
     "iopub.status.busy": "2024-07-24T08:13:28.159486Z",
     "iopub.status.idle": "2024-07-24T08:13:28.167437Z",
     "shell.execute_reply": "2024-07-24T08:13:28.166124Z"
    },
    "papermill": {
     "duration": 0.034566,
     "end_time": "2024-07-24T08:13:28.170174",
     "exception": false,
     "start_time": "2024-07-24T08:13:28.135608",
     "status": "completed"
    },
    "tags": []
   },
   "outputs": [
    {
     "data": {
      "text/plain": [
       "['D', 'A', 'T', 'A', 'S', 'C', 'I', 'E', 'N', 'C', 'E', 101]"
      ]
     },
     "execution_count": 21,
     "metadata": {},
     "output_type": "execute_result"
    }
   ],
   "source": [
    "lst.insert(8, \"N\")\n",
    "lst"
   ]
  },
  {
   "cell_type": "markdown",
   "id": "c543758d",
   "metadata": {
    "papermill": {
     "duration": 0.021875,
     "end_time": "2024-07-24T08:13:28.214481",
     "exception": false,
     "start_time": "2024-07-24T08:13:28.192606",
     "status": "completed"
    },
    "tags": []
   },
   "source": [
    "4) Verilen sözlük yapısına aşağıdaki adımları uygulayınız."
   ]
  },
  {
   "cell_type": "code",
   "execution_count": 22,
   "id": "f10ccf7f",
   "metadata": {
    "execution": {
     "iopub.execute_input": "2024-07-24T08:13:28.260146Z",
     "iopub.status.busy": "2024-07-24T08:13:28.259719Z",
     "iopub.status.idle": "2024-07-24T08:13:28.265204Z",
     "shell.execute_reply": "2024-07-24T08:13:28.264097Z"
    },
    "papermill": {
     "duration": 0.031549,
     "end_time": "2024-07-24T08:13:28.267822",
     "exception": false,
     "start_time": "2024-07-24T08:13:28.236273",
     "status": "completed"
    },
    "tags": []
   },
   "outputs": [],
   "source": [
    "dict = {'Christian': [\"America\",18],\n",
    "        'Daisy':[\"England\",12],\n",
    "        'Antonio':[\"Spain\",22],\n",
    "        'Dante':[\"Italy\",25]}"
   ]
  },
  {
   "cell_type": "markdown",
   "id": "2d82d67d",
   "metadata": {
    "papermill": {
     "duration": 0.021472,
     "end_time": "2024-07-24T08:13:28.311536",
     "exception": false,
     "start_time": "2024-07-24T08:13:28.290064",
     "status": "completed"
    },
    "tags": []
   },
   "source": [
    "Adım 1: Key değerlerine erişiniz."
   ]
  },
  {
   "cell_type": "code",
   "execution_count": 23,
   "id": "a89361cd",
   "metadata": {
    "execution": {
     "iopub.execute_input": "2024-07-24T08:13:28.356917Z",
     "iopub.status.busy": "2024-07-24T08:13:28.356386Z",
     "iopub.status.idle": "2024-07-24T08:13:28.364012Z",
     "shell.execute_reply": "2024-07-24T08:13:28.362929Z"
    },
    "papermill": {
     "duration": 0.033511,
     "end_time": "2024-07-24T08:13:28.366683",
     "exception": false,
     "start_time": "2024-07-24T08:13:28.333172",
     "status": "completed"
    },
    "tags": []
   },
   "outputs": [
    {
     "data": {
      "text/plain": [
       "dict_keys(['Christian', 'Daisy', 'Antonio', 'Dante'])"
      ]
     },
     "execution_count": 23,
     "metadata": {},
     "output_type": "execute_result"
    }
   ],
   "source": [
    "dict.keys()"
   ]
  },
  {
   "cell_type": "markdown",
   "id": "5aa2bbf2",
   "metadata": {
    "papermill": {
     "duration": 0.022953,
     "end_time": "2024-07-24T08:13:28.411750",
     "exception": false,
     "start_time": "2024-07-24T08:13:28.388797",
     "status": "completed"
    },
    "tags": []
   },
   "source": [
    "Adım 2: Value'lara erişiniz."
   ]
  },
  {
   "cell_type": "code",
   "execution_count": 24,
   "id": "ad0f9c03",
   "metadata": {
    "execution": {
     "iopub.execute_input": "2024-07-24T08:13:28.457007Z",
     "iopub.status.busy": "2024-07-24T08:13:28.456579Z",
     "iopub.status.idle": "2024-07-24T08:13:28.463803Z",
     "shell.execute_reply": "2024-07-24T08:13:28.462655Z"
    },
    "papermill": {
     "duration": 0.032711,
     "end_time": "2024-07-24T08:13:28.466258",
     "exception": false,
     "start_time": "2024-07-24T08:13:28.433547",
     "status": "completed"
    },
    "tags": []
   },
   "outputs": [
    {
     "data": {
      "text/plain": [
       "dict_values([['America', 18], ['England', 12], ['Spain', 22], ['Italy', 25]])"
      ]
     },
     "execution_count": 24,
     "metadata": {},
     "output_type": "execute_result"
    }
   ],
   "source": [
    "dict.values()"
   ]
  },
  {
   "cell_type": "markdown",
   "id": "6a4eedb3",
   "metadata": {
    "papermill": {
     "duration": 0.022431,
     "end_time": "2024-07-24T08:13:28.510522",
     "exception": false,
     "start_time": "2024-07-24T08:13:28.488091",
     "status": "completed"
    },
    "tags": []
   },
   "source": [
    "Adım 3: Daisy key'ine ait 12 değerini 13 olarak güncelleyiniz."
   ]
  },
  {
   "cell_type": "code",
   "execution_count": 25,
   "id": "11e4e554",
   "metadata": {
    "execution": {
     "iopub.execute_input": "2024-07-24T08:13:28.558338Z",
     "iopub.status.busy": "2024-07-24T08:13:28.557889Z",
     "iopub.status.idle": "2024-07-24T08:13:28.566033Z",
     "shell.execute_reply": "2024-07-24T08:13:28.564836Z"
    },
    "papermill": {
     "duration": 0.035107,
     "end_time": "2024-07-24T08:13:28.568457",
     "exception": false,
     "start_time": "2024-07-24T08:13:28.533350",
     "status": "completed"
    },
    "tags": []
   },
   "outputs": [
    {
     "data": {
      "text/plain": [
       "{'Christian': ['America', 18],\n",
       " 'Daisy': ['England', 13],\n",
       " 'Antonio': ['Spain', 22],\n",
       " 'Dante': ['Italy', 25]}"
      ]
     },
     "execution_count": 25,
     "metadata": {},
     "output_type": "execute_result"
    }
   ],
   "source": [
    "dict.update({\"Daisy\": [\"England\",13]})\n",
    "dict"
   ]
  },
  {
   "cell_type": "code",
   "execution_count": 26,
   "id": "bc6f59cc",
   "metadata": {
    "execution": {
     "iopub.execute_input": "2024-07-24T08:13:28.618390Z",
     "iopub.status.busy": "2024-07-24T08:13:28.617966Z",
     "iopub.status.idle": "2024-07-24T08:13:28.625437Z",
     "shell.execute_reply": "2024-07-24T08:13:28.624432Z"
    },
    "papermill": {
     "duration": 0.036452,
     "end_time": "2024-07-24T08:13:28.627974",
     "exception": false,
     "start_time": "2024-07-24T08:13:28.591522",
     "status": "completed"
    },
    "tags": []
   },
   "outputs": [
    {
     "data": {
      "text/plain": [
       "{'Christian': ['America', 18],\n",
       " 'Daisy': ['England', 14],\n",
       " 'Antonio': ['Spain', 22],\n",
       " 'Dante': ['Italy', 25]}"
      ]
     },
     "execution_count": 26,
     "metadata": {},
     "output_type": "execute_result"
    }
   ],
   "source": [
    "dict[\"Daisy\"][1] = 14\n",
    "dict"
   ]
  },
  {
   "cell_type": "markdown",
   "id": "c30cffbb",
   "metadata": {
    "papermill": {
     "duration": 0.02193,
     "end_time": "2024-07-24T08:13:28.671928",
     "exception": false,
     "start_time": "2024-07-24T08:13:28.649998",
     "status": "completed"
    },
    "tags": []
   },
   "source": [
    "Adım 4: Key değeri Ahmet value değeri [Turkey,24] olan yeni bir değer ekleyiniz."
   ]
  },
  {
   "cell_type": "code",
   "execution_count": 27,
   "id": "db6fb76d",
   "metadata": {
    "execution": {
     "iopub.execute_input": "2024-07-24T08:13:28.717821Z",
     "iopub.status.busy": "2024-07-24T08:13:28.717443Z",
     "iopub.status.idle": "2024-07-24T08:13:28.725583Z",
     "shell.execute_reply": "2024-07-24T08:13:28.724388Z"
    },
    "papermill": {
     "duration": 0.034245,
     "end_time": "2024-07-24T08:13:28.728259",
     "exception": false,
     "start_time": "2024-07-24T08:13:28.694014",
     "status": "completed"
    },
    "tags": []
   },
   "outputs": [
    {
     "data": {
      "text/plain": [
       "{'Christian': ['America', 18],\n",
       " 'Daisy': ['England', 14],\n",
       " 'Antonio': ['Spain', 22],\n",
       " 'Dante': ['Italy', 25],\n",
       " 'Ahmet': ['Turkey', 24]}"
      ]
     },
     "execution_count": 27,
     "metadata": {},
     "output_type": "execute_result"
    }
   ],
   "source": [
    "dict.update({\"Ahmet\": [\"Turkey\", 24]})\n",
    "dict"
   ]
  },
  {
   "cell_type": "markdown",
   "id": "60371892",
   "metadata": {
    "papermill": {
     "duration": 0.022286,
     "end_time": "2024-07-24T08:13:28.772787",
     "exception": false,
     "start_time": "2024-07-24T08:13:28.750501",
     "status": "completed"
    },
    "tags": []
   },
   "source": [
    "Adım 5: Antonio'yu dictionary'den siliniz."
   ]
  },
  {
   "cell_type": "code",
   "execution_count": 28,
   "id": "c04504b1",
   "metadata": {
    "execution": {
     "iopub.execute_input": "2024-07-24T08:13:28.820043Z",
     "iopub.status.busy": "2024-07-24T08:13:28.819655Z",
     "iopub.status.idle": "2024-07-24T08:13:28.827193Z",
     "shell.execute_reply": "2024-07-24T08:13:28.826201Z"
    },
    "papermill": {
     "duration": 0.034478,
     "end_time": "2024-07-24T08:13:28.829721",
     "exception": false,
     "start_time": "2024-07-24T08:13:28.795243",
     "status": "completed"
    },
    "tags": []
   },
   "outputs": [
    {
     "data": {
      "text/plain": [
       "{'Christian': ['America', 18],\n",
       " 'Daisy': ['England', 14],\n",
       " 'Dante': ['Italy', 25],\n",
       " 'Ahmet': ['Turkey', 24]}"
      ]
     },
     "execution_count": 28,
     "metadata": {},
     "output_type": "execute_result"
    }
   ],
   "source": [
    "dict.pop(\"Antonio\")\n",
    "dict"
   ]
  },
  {
   "cell_type": "markdown",
   "id": "0f9b3b91",
   "metadata": {
    "papermill": {
     "duration": 0.02211,
     "end_time": "2024-07-24T08:13:28.875568",
     "exception": false,
     "start_time": "2024-07-24T08:13:28.853458",
     "status": "completed"
    },
    "tags": []
   },
   "source": [
    "5) Arguman olarak bir liste alan, listenin içerisindeki tek ve çift sayıları ayrı listelere atıyan ve bu listeleri return eden fonskiyon yazınız."
   ]
  },
  {
   "cell_type": "code",
   "execution_count": 29,
   "id": "ef3bec21",
   "metadata": {
    "execution": {
     "iopub.execute_input": "2024-07-24T08:13:28.924048Z",
     "iopub.status.busy": "2024-07-24T08:13:28.923637Z",
     "iopub.status.idle": "2024-07-24T08:13:28.928943Z",
     "shell.execute_reply": "2024-07-24T08:13:28.927778Z"
    },
    "papermill": {
     "duration": 0.032492,
     "end_time": "2024-07-24T08:13:28.931407",
     "exception": false,
     "start_time": "2024-07-24T08:13:28.898915",
     "status": "completed"
    },
    "tags": []
   },
   "outputs": [],
   "source": [
    "l = [2,13,18,93,22]\n",
    "y = [2,5,6,7,8,9]"
   ]
  },
  {
   "cell_type": "code",
   "execution_count": 30,
   "id": "528a4305",
   "metadata": {
    "execution": {
     "iopub.execute_input": "2024-07-24T08:13:28.979775Z",
     "iopub.status.busy": "2024-07-24T08:13:28.979379Z",
     "iopub.status.idle": "2024-07-24T08:13:28.985841Z",
     "shell.execute_reply": "2024-07-24T08:13:28.984699Z"
    },
    "papermill": {
     "duration": 0.033279,
     "end_time": "2024-07-24T08:13:28.988682",
     "exception": false,
     "start_time": "2024-07-24T08:13:28.955403",
     "status": "completed"
    },
    "tags": []
   },
   "outputs": [],
   "source": [
    "def func(list):\n",
    "    cift_list = []\n",
    "    tek_list = []\n",
    "    for i in list:\n",
    "        if i % 2 == 0:\n",
    "            cift_list.append(i)\n",
    "        else:\n",
    "            tek_list.append(i)\n",
    "    return cift_list, tek_list"
   ]
  },
  {
   "cell_type": "code",
   "execution_count": 31,
   "id": "d536d7d0",
   "metadata": {
    "execution": {
     "iopub.execute_input": "2024-07-24T08:13:29.036541Z",
     "iopub.status.busy": "2024-07-24T08:13:29.036113Z",
     "iopub.status.idle": "2024-07-24T08:13:29.041705Z",
     "shell.execute_reply": "2024-07-24T08:13:29.040366Z"
    },
    "papermill": {
     "duration": 0.032849,
     "end_time": "2024-07-24T08:13:29.044550",
     "exception": false,
     "start_time": "2024-07-24T08:13:29.011701",
     "status": "completed"
    },
    "tags": []
   },
   "outputs": [],
   "source": [
    "cift,tek = func(l)\n",
    "cift,tek = func(y)"
   ]
  },
  {
   "cell_type": "code",
   "execution_count": 32,
   "id": "6227baf8",
   "metadata": {
    "execution": {
     "iopub.execute_input": "2024-07-24T08:13:29.092706Z",
     "iopub.status.busy": "2024-07-24T08:13:29.092334Z",
     "iopub.status.idle": "2024-07-24T08:13:29.098174Z",
     "shell.execute_reply": "2024-07-24T08:13:29.096796Z"
    },
    "papermill": {
     "duration": 0.034216,
     "end_time": "2024-07-24T08:13:29.101447",
     "exception": false,
     "start_time": "2024-07-24T08:13:29.067231",
     "status": "completed"
    },
    "tags": []
   },
   "outputs": [
    {
     "name": "stdout",
     "output_type": "stream",
     "text": [
      "Tek sayılar: [5, 7, 9]\n",
      "çift sayılar [2, 6, 8]\n"
     ]
    }
   ],
   "source": [
    "print(\"Tek sayılar:\",tek)\n",
    "print(\"çift sayılar\",cift)"
   ]
  },
  {
   "cell_type": "markdown",
   "id": "d7b8f3e3",
   "metadata": {
    "papermill": {
     "duration": 0.022654,
     "end_time": "2024-07-24T08:13:29.146850",
     "exception": false,
     "start_time": "2024-07-24T08:13:29.124196",
     "status": "completed"
    },
    "tags": []
   },
   "source": [
    "List comp. çözümü."
   ]
  },
  {
   "cell_type": "code",
   "execution_count": 33,
   "id": "f68c4585",
   "metadata": {
    "execution": {
     "iopub.execute_input": "2024-07-24T08:13:29.193857Z",
     "iopub.status.busy": "2024-07-24T08:13:29.193431Z",
     "iopub.status.idle": "2024-07-24T08:13:29.199634Z",
     "shell.execute_reply": "2024-07-24T08:13:29.198459Z"
    },
    "papermill": {
     "duration": 0.032603,
     "end_time": "2024-07-24T08:13:29.202188",
     "exception": false,
     "start_time": "2024-07-24T08:13:29.169585",
     "status": "completed"
    },
    "tags": []
   },
   "outputs": [],
   "source": [
    "def ayir_tek_cift(sayilar):\n",
    "    tek_sayilar = [sayi for sayi in sayilar if sayi % 2 != 0]\n",
    "    cift_sayilar = [sayi for sayi in sayilar if sayi % 2 == 0]\n",
    "    return tek_sayilar, cift_sayilar"
   ]
  },
  {
   "cell_type": "markdown",
   "id": "d58d3d7b",
   "metadata": {
    "papermill": {
     "duration": 0.023377,
     "end_time": "2024-07-24T08:13:29.248557",
     "exception": false,
     "start_time": "2024-07-24T08:13:29.225180",
     "status": "completed"
    },
    "tags": []
   },
   "source": [
    "6) Aşağıda verilen listede mühendislik ve tıp fakülterinde dereceye giren öğrencilerin isimleri bulunmaktadır.\n",
    "Sırasıyla ilk üç öğrenci mühendislik fakültesinin başarı sırasını temsil ederken son üç öğrenci de tıp fakültesi öğrenci sırasına aittir.\n",
    "Enumarate kullanarak öğrenci derecelerini fakülte özelinde yazdırınız."
   ]
  },
  {
   "cell_type": "code",
   "execution_count": 34,
   "id": "c2bf518b",
   "metadata": {
    "execution": {
     "iopub.execute_input": "2024-07-24T08:13:29.296310Z",
     "iopub.status.busy": "2024-07-24T08:13:29.295900Z",
     "iopub.status.idle": "2024-07-24T08:13:29.301646Z",
     "shell.execute_reply": "2024-07-24T08:13:29.300247Z"
    },
    "papermill": {
     "duration": 0.032278,
     "end_time": "2024-07-24T08:13:29.304196",
     "exception": false,
     "start_time": "2024-07-24T08:13:29.271918",
     "status": "completed"
    },
    "tags": []
   },
   "outputs": [],
   "source": [
    "ogrenciler = [\"Ali\",\"Veli\",\"Ayşe\",\"Talat\",\"Zeynep\",\"Ece\"]"
   ]
  },
  {
   "cell_type": "code",
   "execution_count": 35,
   "id": "360750c7",
   "metadata": {
    "execution": {
     "iopub.execute_input": "2024-07-24T08:13:29.351475Z",
     "iopub.status.busy": "2024-07-24T08:13:29.350982Z",
     "iopub.status.idle": "2024-07-24T08:13:29.358302Z",
     "shell.execute_reply": "2024-07-24T08:13:29.357103Z"
    },
    "papermill": {
     "duration": 0.034237,
     "end_time": "2024-07-24T08:13:29.360945",
     "exception": false,
     "start_time": "2024-07-24T08:13:29.326708",
     "status": "completed"
    },
    "tags": []
   },
   "outputs": [
    {
     "name": "stdout",
     "output_type": "stream",
     "text": [
      "Mühendislik Fakültesi 1 . öğrenci:  Ali\n",
      "Mühendislik Fakültesi 2 . öğrenci:  Veli\n",
      "Mühendislik Fakültesi 3 . öğrenci:  Ayşe\n",
      "Tıp Fakültesi 1 . öğrenci:  Talat\n",
      "Tıp Fakültesi 2 . öğrenci:  Zeynep\n",
      "Tıp Fakültesi 3 . öğrenci:  Ece\n"
     ]
    }
   ],
   "source": [
    "for i,x in enumerate(ogrenciler):\n",
    "    if i<3:\n",
    "        i += 1\n",
    "        print(\"Mühendislik Fakültesi\",i,\". öğrenci: \",x)\n",
    "\n",
    "    else:\n",
    "        i -= 2\n",
    "        print(\"Tıp Fakültesi\",i,\". öğrenci: \",x)\n"
   ]
  },
  {
   "cell_type": "markdown",
   "id": "d076831a",
   "metadata": {
    "papermill": {
     "duration": 0.022463,
     "end_time": "2024-07-24T08:13:29.406080",
     "exception": false,
     "start_time": "2024-07-24T08:13:29.383617",
     "status": "completed"
    },
    "tags": []
   },
   "source": [
    "Çözüm 2:"
   ]
  },
  {
   "cell_type": "code",
   "execution_count": 36,
   "id": "ef37b3bc",
   "metadata": {
    "execution": {
     "iopub.execute_input": "2024-07-24T08:13:29.453867Z",
     "iopub.status.busy": "2024-07-24T08:13:29.452883Z",
     "iopub.status.idle": "2024-07-24T08:13:29.460817Z",
     "shell.execute_reply": "2024-07-24T08:13:29.459682Z"
    },
    "papermill": {
     "duration": 0.034741,
     "end_time": "2024-07-24T08:13:29.463427",
     "exception": false,
     "start_time": "2024-07-24T08:13:29.428686",
     "status": "completed"
    },
    "tags": []
   },
   "outputs": [
    {
     "name": "stdout",
     "output_type": "stream",
     "text": [
      "Mühendislik Fakültesi Öğrenci Dereceleri:\n",
      "1. Ali\n",
      "2. Veli\n",
      "3. Ayşe\n",
      "\n",
      "Tıp Fakültesi Öğrenci Dereceleri:\n",
      "1. Talat\n",
      "2. Zeynep\n",
      "3. Ece\n"
     ]
    }
   ],
   "source": [
    "ogrenciler_2 = [\"Ali\",\"Veli\",\"Ayşe\",\"Talat\",\"Zeynep\",\"Ece\"]\n",
    "\n",
    "# Mühendislik Fakültesi öğrencileri için\n",
    "print(\"Mühendislik Fakültesi Öğrenci Dereceleri:\")\n",
    "for derece, isim in enumerate(ogrenciler_2[:3], 1):\n",
    "    print(f\"{derece}. {isim}\")\n",
    "\n",
    "# Tıp Fakültesi öğrencileri için\n",
    "print(\"\\nTıp Fakültesi Öğrenci Dereceleri:\")\n",
    "for derece, isim in enumerate(ogrenciler_2[3:], 1):\n",
    "    print(f\"{derece}. {isim}\")"
   ]
  },
  {
   "cell_type": "code",
   "execution_count": 37,
   "id": "bd7fa379",
   "metadata": {
    "execution": {
     "iopub.execute_input": "2024-07-24T08:13:29.511494Z",
     "iopub.status.busy": "2024-07-24T08:13:29.511083Z",
     "iopub.status.idle": "2024-07-24T08:13:29.516821Z",
     "shell.execute_reply": "2024-07-24T08:13:29.515728Z"
    },
    "papermill": {
     "duration": 0.033455,
     "end_time": "2024-07-24T08:13:29.519836",
     "exception": false,
     "start_time": "2024-07-24T08:13:29.486381",
     "status": "completed"
    },
    "tags": []
   },
   "outputs": [],
   "source": [
    "students = [\"Ali\", \"Veli\", \"Ayşe\", \"Talat\", \"Zeynep\", \"Ece\",\"x\",\"y\",\"z\"]"
   ]
  },
  {
   "cell_type": "markdown",
   "id": "d77d2756",
   "metadata": {
    "papermill": {
     "duration": 0.022809,
     "end_time": "2024-07-24T08:13:29.565540",
     "exception": false,
     "start_time": "2024-07-24T08:13:29.542731",
     "status": "completed"
    },
    "tags": []
   },
   "source": [
    "Çözüm 3:"
   ]
  },
  {
   "cell_type": "code",
   "execution_count": 38,
   "id": "955de2a6",
   "metadata": {
    "execution": {
     "iopub.execute_input": "2024-07-24T08:13:29.615206Z",
     "iopub.status.busy": "2024-07-24T08:13:29.614494Z",
     "iopub.status.idle": "2024-07-24T08:13:29.623962Z",
     "shell.execute_reply": "2024-07-24T08:13:29.622385Z"
    },
    "papermill": {
     "duration": 0.038328,
     "end_time": "2024-07-24T08:13:29.626756",
     "exception": false,
     "start_time": "2024-07-24T08:13:29.588428",
     "status": "completed"
    },
    "tags": []
   },
   "outputs": [
    {
     "name": "stdout",
     "output_type": "stream",
     "text": [
      "Mühendislik Fakültesi 1.öğrenci: Ali\n",
      "Mühendislik Fakültesi 2.öğrenci: Veli\n",
      "Mühendislik Fakültesi 3.öğrenci: Ayşe\n",
      "Mühendislik Fakültesi 4.öğrenci: Talat\n",
      "Tıp Fakültesi 1.öğrenci: Zeynep\n",
      "Tıp Fakültesi 2.öğrenci: Ece\n",
      "Tıp Fakültesi 3.öğrenci: x\n",
      "Tıp Fakültesi 4.öğrenci: y\n",
      "Tıp Fakültesi 5.öğrenci: z\n"
     ]
    }
   ],
   "source": [
    "def separate(x, y):\n",
    "    z = []\n",
    "    a = 1\n",
    "    b = 1\n",
    "    for index, name in enumerate(x):\n",
    "        if index < y:\n",
    "            z.append(f\"Mühendislik Fakültesi {a}.öğrenci: {name}\")\n",
    "            a = a + 1\n",
    "        else:\n",
    "            z.append(f\"Tıp Fakültesi {b}.öğrenci: {name}\")\n",
    "            b = b + 1\n",
    "\n",
    "    for item in z:\n",
    "        print(item)\n",
    "\n",
    "separate(students, 4)"
   ]
  },
  {
   "cell_type": "markdown",
   "id": "2a011ef3",
   "metadata": {
    "papermill": {
     "duration": 0.022622,
     "end_time": "2024-07-24T08:13:29.672390",
     "exception": false,
     "start_time": "2024-07-24T08:13:29.649768",
     "status": "completed"
    },
    "tags": []
   },
   "source": [
    "7) Aşağıda 3 adet liste verilmiştir. Listelerde sırası ile bir dersin kodu, kredisi ve kontenjan bilgileri yer almaktadır. Zip kullanarak ders bilgilerini bastırınız.\n"
   ]
  },
  {
   "cell_type": "code",
   "execution_count": 39,
   "id": "f156775a",
   "metadata": {
    "execution": {
     "iopub.execute_input": "2024-07-24T08:13:29.720472Z",
     "iopub.status.busy": "2024-07-24T08:13:29.720056Z",
     "iopub.status.idle": "2024-07-24T08:13:29.725920Z",
     "shell.execute_reply": "2024-07-24T08:13:29.724755Z"
    },
    "papermill": {
     "duration": 0.033085,
     "end_time": "2024-07-24T08:13:29.728764",
     "exception": false,
     "start_time": "2024-07-24T08:13:29.695679",
     "status": "completed"
    },
    "tags": []
   },
   "outputs": [],
   "source": [
    "ders_kodu = [\"CMP1005\",\"PSY1001\",\"HUK1005\",\"SEN2204\"]\n",
    "kredi = [3,4,2,4]\n",
    "kontenjan = [30,75,150,25]"
   ]
  },
  {
   "cell_type": "code",
   "execution_count": 40,
   "id": "63d9257c",
   "metadata": {
    "execution": {
     "iopub.execute_input": "2024-07-24T08:13:29.778475Z",
     "iopub.status.busy": "2024-07-24T08:13:29.778050Z",
     "iopub.status.idle": "2024-07-24T08:13:29.786394Z",
     "shell.execute_reply": "2024-07-24T08:13:29.784916Z"
    },
    "papermill": {
     "duration": 0.03633,
     "end_time": "2024-07-24T08:13:29.789066",
     "exception": false,
     "start_time": "2024-07-24T08:13:29.752736",
     "status": "completed"
    },
    "tags": []
   },
   "outputs": [
    {
     "name": "stdout",
     "output_type": "stream",
     "text": [
      "Kredisi 3 olan CMP1005 kodlu dersin kontenjanı 30 kişidir.\n",
      "Kredisi 4 olan PSY1001 kodlu dersin kontenjanı 75 kişidir.\n",
      "Kredisi 2 olan HUK1005 kodlu dersin kontenjanı 150 kişidir.\n",
      "Kredisi 4 olan SEN2204 kodlu dersin kontenjanı 25 kişidir.\n"
     ]
    }
   ],
   "source": [
    "for ders_kodu, kredi, kontenjan in zip(ders_kodu, kredi, kontenjan):\n",
    "  print(f\"Kredisi {kredi} olan {ders_kodu} kodlu dersin kontenjanı {kontenjan} kişidir.\")"
   ]
  },
  {
   "cell_type": "markdown",
   "id": "cc7d8696",
   "metadata": {
    "papermill": {
     "duration": 0.023492,
     "end_time": "2024-07-24T08:13:29.835643",
     "exception": false,
     "start_time": "2024-07-24T08:13:29.812151",
     "status": "completed"
    },
    "tags": []
   },
   "source": [
    "8) Aşağıda 2 adet set verilmiştir.\n",
    "\n",
    "Sizden istenilen eğer 1. küme 2. kümeyi kapsiyor ise ortak elemanlarını eğer kapsamıyor ise 2. kümenin 1. kümeden farkını yazdıracak fonksiyonu tanımlamanız beklenmektedir."
   ]
  },
  {
   "cell_type": "code",
   "execution_count": 41,
   "id": "fc882432",
   "metadata": {
    "execution": {
     "iopub.execute_input": "2024-07-24T08:13:29.883433Z",
     "iopub.status.busy": "2024-07-24T08:13:29.882614Z",
     "iopub.status.idle": "2024-07-24T08:13:29.888267Z",
     "shell.execute_reply": "2024-07-24T08:13:29.886885Z"
    },
    "papermill": {
     "duration": 0.032396,
     "end_time": "2024-07-24T08:13:29.890946",
     "exception": false,
     "start_time": "2024-07-24T08:13:29.858550",
     "status": "completed"
    },
    "tags": []
   },
   "outputs": [],
   "source": [
    "kume1 = set([\"data\", \"python\"])\n",
    "kume2 = set([\"data\", \"function\", \"qcut\", \"lambda\", \"python\", \"miuul\"])"
   ]
  },
  {
   "cell_type": "code",
   "execution_count": 42,
   "id": "82421c01",
   "metadata": {
    "execution": {
     "iopub.execute_input": "2024-07-24T08:13:29.939168Z",
     "iopub.status.busy": "2024-07-24T08:13:29.938687Z",
     "iopub.status.idle": "2024-07-24T08:13:29.948361Z",
     "shell.execute_reply": "2024-07-24T08:13:29.947082Z"
    },
    "papermill": {
     "duration": 0.037455,
     "end_time": "2024-07-24T08:13:29.951533",
     "exception": false,
     "start_time": "2024-07-24T08:13:29.914078",
     "status": "completed"
    },
    "tags": []
   },
   "outputs": [
    {
     "name": "stdout",
     "output_type": "stream",
     "text": [
      "{'qcut', 'function', 'lambda', 'miuul'}\n"
     ]
    },
    {
     "data": {
      "text/plain": [
       "{'function', 'lambda', 'miuul', 'qcut'}"
      ]
     },
     "execution_count": 42,
     "metadata": {},
     "output_type": "execute_result"
    }
   ],
   "source": [
    "def kume(set1,set2):\n",
    "    if set1.issuperset(set2):\n",
    "        print(set1.intersection(set2)) #kesişim\n",
    "    else:\n",
    "        print(set2.difference(set1))#fark\n",
    "\n",
    "kume(kume1,kume2)\n",
    "\n",
    "\n",
    "kume2.difference(kume1)"
   ]
  }
 ],
 "metadata": {
  "kaggle": {
   "accelerator": "none",
   "dataSources": [],
   "dockerImageVersionId": 30746,
   "isGpuEnabled": false,
   "isInternetEnabled": true,
   "language": "python",
   "sourceType": "notebook"
  },
  "kernelspec": {
   "display_name": "Python 3",
   "language": "python",
   "name": "python3"
  },
  "language_info": {
   "codemirror_mode": {
    "name": "ipython",
    "version": 3
   },
   "file_extension": ".py",
   "mimetype": "text/x-python",
   "name": "python",
   "nbconvert_exporter": "python",
   "pygments_lexer": "ipython3",
   "version": "3.10.13"
  },
  "papermill": {
   "default_parameters": {},
   "duration": 7.079826,
   "end_time": "2024-07-24T08:13:30.396719",
   "environment_variables": {},
   "exception": null,
   "input_path": "__notebook__.ipynb",
   "output_path": "__notebook__.ipynb",
   "parameters": {},
   "start_time": "2024-07-24T08:13:23.316893",
   "version": "2.5.0"
  }
 },
 "nbformat": 4,
 "nbformat_minor": 5
}
